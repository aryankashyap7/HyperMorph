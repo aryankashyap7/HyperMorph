{
  "cells": [
    {
      "cell_type": "markdown",
      "metadata": {
        "id": "D3L8Lkyj-5gl"
      },
      "source": [
        "# Clone HyperMorph repository from GitHub to Colab"
      ]
    },
    {
      "cell_type": "code",
      "execution_count": null,
      "metadata": {
        "colab": {
          "base_uri": "https://localhost:8080/"
        },
        "id": "0aHr4Fo-7IRy",
        "outputId": "b0378597-34b9-4826-bee4-93f2f7de7956"
      },
      "outputs": [],
      "source": [
        "!git clone https://github.com/aryankashyap7/HyperMorph.git\n",
        "%cd HyperMorph/assets/Special Edition/roop-master-nolimits\n",
        "!pip install -r requirements.txt"
      ]
    },
    {
      "cell_type": "markdown",
      "metadata": {
        "id": "jl9zIFZYGWTQ"
      },
      "source": [
        "# Downloading Models"
      ]
    },
    {
      "cell_type": "code",
      "execution_count": null,
      "metadata": {
        "colab": {
          "base_uri": "https://localhost:8080/"
        },
        "id": "UQH2exUYGTbK",
        "outputId": "f6982f3b-bf8b-442d-b363-c829e254b565"
      },
      "outputs": [],
      "source": [
        "!wget https://civitai.com/api/download/models/85159 -O inswapper_128.onnx"
      ]
    },
    {
      "cell_type": "markdown",
      "metadata": {
        "id": "nCKli1C-_EaO"
      },
      "source": [
        "# Deepfake Video Generation"
      ]
    },
    {
      "cell_type": "markdown",
      "metadata": {},
      "source": [
        "- TARGET_NAME: Specifies the video in which you want to swap the face.\n",
        "- OUTPUT_VIDEO_QUALITY: Controls the output video quality, with lower values indicating higher quality.\n",
        "- SOURCE_IMAGE: Defines the face you want to swap into the video.\n",
        "- OUTPUT_VIDEO: Sets the name of the output video.\n",
        "- EXECUTION_PROVIDER: Specifies the execution provider, in this case, \"cuda.\"\n",
        "- FRAME_PROCESSOR: Defines the frame processors, including \"face_swapper\" and \"face_enhancer.\"\n",
        "- --keep-fps: Indicates whether to keep the original frames per second (FPS) of the target video. When removed, it defaults to 30 FPS.\n",
        "\n",
        "\n",
        "`!python run.py --target $TARGET_NAME --output-video-quality $OUTPUT_VIDEO_QUALITY --keep-fps --source $SOURCE_IMAGE -o $OUTPUT_VIDEO --execution-provider $EXECUTION_PROVIDER --frame-processor $FRAME_PROCESSOR\n",
        "`"
      ]
    },
    {
      "cell_type": "code",
      "execution_count": null,
      "metadata": {
        "colab": {
          "base_uri": "https://localhost:8080/"
        },
        "id": "lDYdfL3L71i1",
        "outputId": "b8d50f21-0c2e-4342-b8eb-b778f834b7d3"
      },
      "outputs": [],
      "source": [
        "!python run.py --target /content/video.mp4 --source /content/image.jpg -o /content/swapped.mp4 --output-video-quality 30  --keep-fps --execution-provider cuda --frame-processor face_swapper face_enhancer"
      ]
    },
    {
      "cell_type": "code",
      "execution_count": null,
      "metadata": {
        "colab": {
          "base_uri": "https://localhost:8080/"
        },
        "id": "KDmcFbqr-F7Z",
        "outputId": "6680315f-515e-403e-f39d-a35d68ba73b4"
      },
      "outputs": [],
      "source": [
        "# Mount Google Drive\n",
        "\n",
        "from google.colab import drive\n",
        "drive.mount('/content/drive')"
      ]
    },
    {
      "cell_type": "code",
      "execution_count": null,
      "metadata": {},
      "outputs": [],
      "source": [
        "# Copy The File TO Google Drive\n",
        "\n",
        "import shutil\n",
        "\n",
        "# Define the source and destination paths\n",
        "source_path = '/content/file.txt'\n",
        "destination_path = '/content/drive/MyDrive/Folder/file.txt'\n",
        "\n",
        "# Copy the file\n",
        "shutil.copy(source_path, destination_path)"
      ]
    }
  ],
  "metadata": {
    "accelerator": "GPU",
    "colab": {
      "provenance": []
    },
    "kernelspec": {
      "display_name": "Python 3",
      "name": "python3"
    },
    "language_info": {
      "name": "python",
      "version": "3.12.0"
    }
  },
  "nbformat": 4,
  "nbformat_minor": 0
}
